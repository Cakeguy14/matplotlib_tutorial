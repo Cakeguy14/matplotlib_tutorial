{
 "cells": [
  {
   "cell_type": "code",
   "execution_count": null,
   "metadata": {},
   "outputs": [],
   "source": [
    "import matplotlib.pyplot as plt\n",
    "import pandas as pd\n",
    "import numpy as np"
   ]
  },
  {
   "cell_type": "code",
   "execution_count": null,
   "metadata": {},
   "outputs": [],
   "source": [
    "plt.plot([1,2,3,4],[1,2,3,4])\n",
    "\n",
    "plt.show()"
   ]
  },
  {
   "cell_type": "code",
   "execution_count": null,
   "metadata": {},
   "outputs": [],
   "source": [
    "x = [1,2,3,4,5]\n",
    "y = [2,4,6,8,10]\n",
    "\n",
    "#plt.figure(figsize=(5,3), dpi=100)\n",
    "#plt.plot(x,y, color='red', label='2x', linewidth=2, marker='.', linestyle='--', markersize=10, markeredgecolor='yellow')\n",
    "\n",
    "plt.plot(x,y, 'r.-', label='2x')\n",
    "\n",
    "x2 = np.arange(0,4.5,0.5)\n",
    "plt.plot(x2[:6],x2[:6]**2, 'r', label='x^2')\n",
    "plt.plot(x2[5:],x2[5:]**2, '--')\n",
    "plt.title(\"My first graph\", fontdict={'fontname': 'Times New Roman', 'fontstyle': 'italic', 'fontsize': 10})\n",
    "plt.xlabel('X axis', fontdict={'fontname': 'Times New Roman', 'fontstyle': 'italic', 'fontsize': 10})\n",
    "plt.ylabel('Y axis', fontdict={'fontname': 'Times New Roman', 'fontstyle': 'italic', 'fontsize': 10})\n",
    "\n",
    "# plt.xticks([1,2,3,4,5,5.5])\n",
    "# plt.yticks([2,4,6,8,9.5])\n",
    "\n",
    "plt.savefig('MYGRaPGH.png', dpi=300)\n",
    "\n",
    "\n",
    "plt.show()"
   ]
  },
  {
   "cell_type": "code",
   "execution_count": null,
   "metadata": {},
   "outputs": [],
   "source": [
    "labels = ['A','B','C']\n",
    "values = [1,4,3]\n",
    "\n",
    "bars = plt.bar(labels,values)\n",
    "patterns = ['/','*','o']\n",
    "# for bar in bars:\n",
    "#     bar.set_hatch(patterns.pop(0))\n",
    "for bar in bars:\n",
    "    bar.set_hatch(patterns.pop())\n",
    "\n",
    "#bars[0].set_hatch('/')\n",
    "#bars[1].set_hatch('.')\n",
    "#bars[2].set_hatch('*)\n",
    "\n",
    "plt.show()"
   ]
  },
  {
   "cell_type": "code",
   "execution_count": null,
   "metadata": {},
   "outputs": [],
   "source": [
    "gas = pd.read_csv('gas_prices.csv')\n",
    "\n",
    "plt.title('Gas prices in USD')\n",
    "\n",
    "plt.plot(gas['Year'], gas['USA'], 'b.-', label='USA')\n",
    "\n",
    "plt.plot(gas['Year'], gas['Canada'], 'r.-', label='Canada')\n",
    "\n",
    "plt.plot(gas['Year'], gas['South Korea'], 'g.-', label='South Korea')\n",
    "\n",
    "plt.xticks(gas.Year[::3].tolist()+[2011])\n",
    "\n",
    "plt.xlabel=('Year')\n",
    "plt.ylabel=('Gas price')\n",
    "\n",
    "\n",
    "plt.legend()\n",
    "\n",
    "plt.savefig('gas_price_figure.png', dpi=300)\n",
    "\n",
    "plt.show()"
   ]
  },
  {
   "cell_type": "code",
   "execution_count": null,
   "metadata": {},
   "outputs": [],
   "source": [
    "fifa = pd.read_csv('fifa_data.csv')\n",
    "\n",
    "fifa.head()"
   ]
  },
  {
   "cell_type": "code",
   "execution_count": null,
   "metadata": {},
   "outputs": [],
   "source": [
    "bins = [40,50,60,70,80,90,100]\n",
    "\n",
    "plt.figure(figsize=(8,5))\n",
    "\n",
    "plt.hist(fifa.Overall, bins=bins, color='#abcdef')\n",
    "\n",
    "plt.xticks(bins)\n",
    "\n",
    "plt.ylabel('Number of Players')\n",
    "plt.xlabel('Skill Level')\n",
    "plt.title('Distribution of Player Skills in FIFA 2018')\n",
    "\n",
    "plt.savefig('histogram.png', dpi=300)\n",
    "\n",
    "plt.show()"
   ]
  },
  {
   "cell_type": "code",
   "execution_count": null,
   "metadata": {},
   "outputs": [],
   "source": [
    "left = fifa.loc[fifa['Preferred Foot'] == 'Left'].shape[0]\n",
    "right = fifa.loc[fifa['Preferred Foot'] == 'Right'].shape[0]\n",
    "\n",
    "Labels = ['Left','Right']\n",
    "\n",
    "plt.pie([left,right], labels=Labels, autopct='%.2f %%')\n",
    "\n",
    "plt.title('Foot Preference of FIFA Players')\n",
    "\n",
    "plt.show()\n",
    "\n",
    "left\n",
    "right"
   ]
  },
  {
   "cell_type": "code",
   "execution_count": 91,
   "metadata": {},
   "outputs": [
    {
     "name": "stdout",
     "output_type": "stream",
     "text": [
      "0        159.0\n",
      "1        183.0\n",
      "2        150.0\n",
      "3        168.0\n",
      "4        154.0\n",
      "         ...  \n",
      "18202    134.0\n",
      "18203    170.0\n",
      "18204    148.0\n",
      "18205    154.0\n",
      "18206    176.0\n",
      "Name: Weight, Length: 18207, dtype: float64\n"
     ]
    },
    {
     "name": "stderr",
     "output_type": "stream",
     "text": [
      "C:\\Users\\Senthur\\AppData\\Local\\Temp\\ipykernel_23192\\1840436914.py:8: FutureWarning: Series.__getitem__ treating keys as positions is deprecated. In a future version, integer keys will always be treated as labels (consistent with DataFrame behavior). To access a value by position, use `ser.iloc[pos]`\n",
      "  light = fifa.loc[fifa.Weight < 125].count()[0]\n",
      "C:\\Users\\Senthur\\AppData\\Local\\Temp\\ipykernel_23192\\1840436914.py:9: FutureWarning: Series.__getitem__ treating keys as positions is deprecated. In a future version, integer keys will always be treated as labels (consistent with DataFrame behavior). To access a value by position, use `ser.iloc[pos]`\n",
      "  light_medium = fifa[(fifa.Weight >= 125) & (fifa.Weight < 150)].count()[0]\n",
      "C:\\Users\\Senthur\\AppData\\Local\\Temp\\ipykernel_23192\\1840436914.py:10: FutureWarning: Series.__getitem__ treating keys as positions is deprecated. In a future version, integer keys will always be treated as labels (consistent with DataFrame behavior). To access a value by position, use `ser.iloc[pos]`\n",
      "  medium = fifa[(fifa.Weight >= 150) & (fifa.Weight < 175)].count()[0]\n",
      "C:\\Users\\Senthur\\AppData\\Local\\Temp\\ipykernel_23192\\1840436914.py:11: FutureWarning: Series.__getitem__ treating keys as positions is deprecated. In a future version, integer keys will always be treated as labels (consistent with DataFrame behavior). To access a value by position, use `ser.iloc[pos]`\n",
      "  medium_heavy = fifa[(fifa.Weight >= 175) & (fifa.Weight < 200)].count()[0]\n",
      "C:\\Users\\Senthur\\AppData\\Local\\Temp\\ipykernel_23192\\1840436914.py:12: FutureWarning: Series.__getitem__ treating keys as positions is deprecated. In a future version, integer keys will always be treated as labels (consistent with DataFrame behavior). To access a value by position, use `ser.iloc[pos]`\n",
      "  heavy = fifa[fifa.Weight >= 200].count()[0]\n"
     ]
    },
    {
     "data": {
      "image/png": "[encoded data removed]",
      "text/plain": [
       "<Figure size 800x500 with 1 Axes>"
      ]
     },
     "metadata": {},
     "output_type": "display_data"
    }
   ],
   "source": [
    "plt.figure(figsize=(8,5), dpi=100)\n",
    "\n",
    "plt.style.use('ggplot')\n",
    "\n",
    "fifa.Weight = [int(x.strip('lbs')) if type(x)==str else x for x in fifa.Weight]\n",
    "\n",
    "print(fifa.Weight)\n",
    "light = fifa.loc[fifa.Weight < 125].count()[0]\n",
    "light_medium = fifa[(fifa.Weight >= 125) & (fifa.Weight < 150)].count()[0]\n",
    "medium = fifa[(fifa.Weight >= 150) & (fifa.Weight < 175)].count()[0]\n",
    "medium_heavy = fifa[(fifa.Weight >= 175) & (fifa.Weight < 200)].count()[0]\n",
    "heavy = fifa[fifa.Weight >= 200].count()[0]\n",
    "\n",
    "weights = [light,light_medium, medium, medium_heavy, heavy]\n",
    "label = ['under 125', '125-150', '150-175', '175-200', 'over 200']\n",
    "explode = (.4,.2,0,0,.4)\n",
    "\n",
    "plt.title('Weight of Professional Soccer Players (lbs)')\n",
    "\n",
    "plt.pie(weights, labels=label, explode=explode, pctdistance=0.8,autopct='%.2f %%')\n",
    "plt.show()"
   ]
  },
  {
   "cell_type": "code",
   "execution_count": 101,
   "metadata": {},
   "outputs": [
    {
     "name": "stdout",
     "output_type": "stream",
     "text": [
      "0               FC Barcelona\n",
      "1                   Juventus\n",
      "2        Paris Saint-Germain\n",
      "3          Manchester United\n",
      "4            Manchester City\n",
      "                ...         \n",
      "18202        Crewe Alexandra\n",
      "18203         Trelleborgs FF\n",
      "18204       Cambridge United\n",
      "18205        Tranmere Rovers\n",
      "18206        Tranmere Rovers\n",
      "Name: Club, Length: 18207, dtype: object\n"
     ]
    },
    {
     "name": "stderr",
     "output_type": "stream",
     "text": [
      "C:\\Users\\Senthur\\AppData\\Local\\Temp\\ipykernel_23192\\4263850093.py:13: MatplotlibDeprecationWarning: The 'labels' parameter of boxplot() has been renamed 'tick_labels' since Matplotlib 3.9; support for the old name will be dropped in 3.11.\n",
      "  boxes = plt.boxplot([barcelona,madrid,Man_UTD], labels=labels, patch_artist=True, medianprops={'linewidth': 2})\n"
     ]
    },
    {
     "data": {
      "image/png": "[encoded data removed]",
      "text/plain": [
       "<Figure size 800x500 with 1 Axes>"
      ]
     },
     "metadata": {},
     "output_type": "display_data"
    },
    {
     "data": {
      "text/plain": [
       "0        94\n",
       "7        91\n",
       "18       89\n",
       "20       89\n",
       "32       88\n",
       "42       87\n",
       "49       87\n",
       "53       87\n",
       "54       87\n",
       "96       85\n",
       "155      83\n",
       "192      83\n",
       "228      82\n",
       "236      82\n",
       "239      82\n",
       "263      82\n",
       "266      82\n",
       "324      81\n",
       "613      79\n",
       "1007     77\n",
       "1037     77\n",
       "3118     73\n",
       "3684     72\n",
       "6000     69\n",
       "6102     69\n",
       "8284     67\n",
       "8289     67\n",
       "8857     66\n",
       "10526    65\n",
       "10777    65\n",
       "11300    64\n",
       "12502    63\n",
       "14286    61\n",
       "Name: Overall, dtype: int64"
      ]
     },
     "execution_count": 101,
     "metadata": {},
     "output_type": "execute_result"
    }
   ],
   "source": [
    "barcelona = fifa.loc[fifa['Club'] == 'FC Barcelona']['Overall']\n",
    "madrid = fifa.loc[fifa['Club'] == 'Real Madrid']['Overall']\n",
    "Man_UTD = fifa.loc[fifa['Club'] == 'Manchester United']['Overall']\n",
    "\n",
    "print(fifa.Club)\n",
    "\n",
    "\n",
    "\n",
    "plt.figure(figsize=(8,5), dpi=100)\n",
    "\n",
    "labels = ['FC Barcelona','Real Madrid','AC Milan']\n",
    "\n",
    "boxes = plt.boxplot([barcelona,madrid,Man_UTD], labels=labels, patch_artist=True, medianprops={'linewidth': 2})\n",
    "\n",
    "for box in boxes['boxes']:\n",
    "    box.set_facecolor('#476042')\n",
    "    box.set_linewidth(2)\n",
    "    \n",
    "\n",
    "plt.show()\n",
    "\n",
    "\n",
    "\n",
    "\n",
    "\n",
    "barcelona"
   ]
  }
 ],
 "metadata": {
  "kernelspec": {
   "display_name": ".venv",
   "language": "python",
   "name": "python3"
  },
  "language_info": {
   "codemirror_mode": {
    "name": "ipython",
    "version": 3
   },
   "file_extension": ".py",
   "mimetype": "text/x-python",
   "name": "python",
   "nbconvert_exporter": "python",
   "pygments_lexer": "ipython3",
   "version": "3.11.9"
  }
 },
 "nbformat": 4,
 "nbformat_minor": 2
}
